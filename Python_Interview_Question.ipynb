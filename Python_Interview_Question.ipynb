{
 "cells": [
  {
   "cell_type": "markdown",
   "id": "61c5e0f4",
   "metadata": {},
   "source": [
    "1). What is Python? What are the benefits of using Python.\n",
    "2). What is a dynamically typed language?\n",
    "3). What is an Interpreted language?\n",
    "4). What is PEP 8 and why is it important?\n",
    "6). What are lists and tuples? What is the key difference between the two?\n",
    "7). What are the common built-in data types in Python?\n",
    "9). What are modules and packages in Python?\n",
    "10). What is difference b/w print and generatoe?\n",
    "11). What are global, protected and private attributes in Python?\n",
    "12). What is the use of self in Python?\n",
    "13). What is __init__?\n",
    "14). What is break, continue and pass in Python?\n",
    "15). What are unit tests in Python?\n",
    "16). What is docstring in Python?\n",
    "17). What is slicing in Python?\n",
    "19). What is the difference between Python Arrays and lists?\n",
    "20). How is memory managed in Python?\n",
    "21). What is Scope Resolution in Python?\n",
    "22). What are decorators in Python?\n",
    "23). What are Dict and List comprehensions?\n",
    "24). How do you copy an object in Python?\n",
    "25). What is the difference between xrange and range in Python?\n",
    "26). What is pickling and unpickling?\n",
    "27). What is PYTHONPATH in Python?\n",
    "28). What is the difference between .py and .pyc files?\n",
    "29). How Python is interpreted?\n",
    "30). What are iterators in Python?\n",
    "31). Explain split() and join() functions in Python?\n",
    "32). What does * args and ** kwargs mean?\n",
    "33). What are negative indexes and why are they used?\n",
    "34). How does inheritance work in python?\n",
    "35). How do you access parent members in the child class?\n",
    "36). How is an empty class created in python?\n",
    "37). Differentiate between new and override modifiers.\n",
    "38). What is init method in python?\n",
    "39). What is init method in python?\n"
   ]
  }
 ],
 "metadata": {
  "kernelspec": {
   "display_name": "Python 3 (ipykernel)",
   "language": "python",
   "name": "python3"
  },
  "language_info": {
   "codemirror_mode": {
    "name": "ipython",
    "version": 3
   },
   "file_extension": ".py",
   "mimetype": "text/x-python",
   "name": "python",
   "nbconvert_exporter": "python",
   "pygments_lexer": "ipython3",
   "version": "3.9.13"
  }
 },
 "nbformat": 4,
 "nbformat_minor": 5
}
