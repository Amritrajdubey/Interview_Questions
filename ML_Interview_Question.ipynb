{
 "cells": [
  {
   "cell_type": "markdown",
   "id": "d90eee81",
   "metadata": {},
   "source": [
    "1 What is the difference between supervised and unsupervised learning?\n",
    "2 How do you handle missing data in your datasets?\n",
    "3 Can you explain the concept of overfitting in machine learning?\n",
    "4 What is regularization and why is it useful in preventing overfitting?\n",
    "5 What is the curse of dimensionality?\n",
    "6 How do you handle class imbalance in a dataset?\n",
    "7 What is the difference between a decision tree and random forest?\n",
    "8 Can you explain the concept of ensemble learning?\n",
    "9 What is cross-validation and why is it important in model selection?\n",
    "10 How do you evaluate the performance of a machine learning model?\n",
    "11 Can you explain the concept of bias-variance trade-off?\n",
    "12 Can you explain the difference between a parametric and non-parametric model?\n",
    "13 Can you explain gradient descent algorithm and its variants?\n",
    "14 Can you explain the difference between L1 and L2 regularization?\n",
    "15 Can you explain the difference between early stopping and weight decay?\n",
    "16 Can you explain the difference between bagging and boosting?\n",
    "17 How do you determine the optimal number of clusters for K-means?\n",
    "18 Can you explain the difference between hard and soft clustering\n",
    "19 Can you explain the concept of within-cluster sum of squares (WCSS) and how it is used in K-means?\n",
    "20 How do you handle non-spherical clusters\n",
    "21 Can you explain the impact of the initial centroids on the final clusters in K-means?\n",
    "22 Can you explain regularization and its impact on model performance?\n",
    "23 Can you explain the concept of ensemble learning and how it improves model performance?\n",
    "24 Can you explain the concept of feature engineering and why it is important?\n",
    "25 Can you explain the difference between feature scaling and normalization?"
   ]
  }
 ],
 "metadata": {
  "kernelspec": {
   "display_name": "Python 3 (ipykernel)",
   "language": "python",
   "name": "python3"
  },
  "language_info": {
   "codemirror_mode": {
    "name": "ipython",
    "version": 3
   },
   "file_extension": ".py",
   "mimetype": "text/x-python",
   "name": "python",
   "nbconvert_exporter": "python",
   "pygments_lexer": "ipython3",
   "version": "3.9.13"
  }
 },
 "nbformat": 4,
 "nbformat_minor": 5
}
